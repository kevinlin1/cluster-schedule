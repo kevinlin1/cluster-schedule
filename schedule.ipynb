{
  "nbformat": 4,
  "nbformat_minor": 0,
  "metadata": {
    "colab": {
      "name": "schedule.ipynb",
      "version": "0.3.2",
      "provenance": [],
      "collapsed_sections": [],
      "toc_visible": true,
      "include_colab_link": true
    },
    "kernelspec": {
      "display_name": "Python 3",
      "language": "python",
      "name": "python3"
    }
  },
  "cells": [
    {
      "cell_type": "markdown",
      "metadata": {
        "id": "view-in-github",
        "colab_type": "text"
      },
      "source": [
        "<a href=\"https://colab.research.google.com/github/kevinlin1/cluster-schedule/blob/master/schedule.ipynb\" target=\"_parent\"><img src=\"https://colab.research.google.com/assets/colab-badge.svg\" alt=\"Open In Colab\"/></a>"
      ]
    },
    {
      "metadata": {
        "id": "OzLHT_YnDPjv",
        "colab_type": "text"
      },
      "cell_type": "markdown",
      "source": [
        "# Cluster Scheduler\n",
        "\n",
        "An experimental scheduling system which, given a dataset of students, their preferences, and available sections, optimizes the assignment of students to sections on the basis of the following treatment conditions, subject to their availability constraints.\n",
        "\n",
        "- Randomized control, or no preference.\n",
        "- Homogeneous ability grouping.\n",
        "- Homogeneous ability grouping and homogeneous preference grouping on Likert-scaled responses to the statement, *I prefer to work in a group.*\n",
        "- Homogeneous ability grouping, and preventing students identifying with an underrepresented demographic from feeling isolated by preferring groups with 0 or 2 such students."
      ]
    },
    {
      "metadata": {
        "id": "VmtEKdWbbgY1",
        "colab_type": "toc"
      },
      "cell_type": "markdown",
      "source": [
        ">[Cluster Scheduler](#scrollTo=OzLHT_YnDPjv&uniqifier=1)\n",
        "\n",
        ">>[Google Colaboratory](#scrollTo=hwN9COgxWFdg&uniqifier=1)\n",
        "\n",
        ">>[Data representation](#scrollTo=hMmyh0yCmuBb&uniqifier=1)\n",
        "\n",
        ">>[Solve the Assignment Problem](#scrollTo=-HR_PTM2opN7&uniqifier=1)\n",
        "\n",
        ">>>[Objective functions](#scrollTo=u1mXd4ZvrYkM&uniqifier=1)\n",
        "\n",
        ">>>>[Trivial objective](#scrollTo=3PfHgCJqjiz-&uniqifier=1)\n",
        "\n",
        ">>>>[Ability objective](#scrollTo=1N_rQ3bVjljI&uniqifier=1)\n",
        "\n",
        ">>>>[Collaboration objective](#scrollTo=zLywi0rFjnx1&uniqifier=1)\n",
        "\n",
        ">>>>[Identity objective](#scrollTo=hXsJK1nGjp_n&uniqifier=1)\n",
        "\n",
        ">>>[Solution generation](#scrollTo=uod0tZbiDPlK&uniqifier=1)\n",
        "\n",
        ">>>>[Split students into treatment conditions](#scrollTo=Qx829OciOhNT&uniqifier=1)\n",
        "\n",
        ">>>>[Split sections into treatment conditions](#scrollTo=g4GXEy5ZeYQg&uniqifier=1)\n",
        "\n",
        ">>>[Assign students to sections](#scrollTo=0ObUzdCVXw8O&uniqifier=1)\n",
        "\n",
        ">>>[Inferential statistics](#scrollTo=yh00tfQW-fdO&uniqifier=1)\n",
        "\n",
        ">>[Export schedule](#scrollTo=AdA23-zWDPlN&uniqifier=1)\n",
        "\n",
        ">>[Send emails](#scrollTo=GGUmWTPmOClz&uniqifier=1)\n",
        "\n",
        ">>>[Send test message](#scrollTo=l_M7Vmprfk-N&uniqifier=1)\n",
        "\n",
        ">>>[Send messages](#scrollTo=TEHJUvbj1fA-&uniqifier=1)\n",
        "\n",
        ">>[Post-processing](#scrollTo=l6jSppPRmFCp&uniqifier=1)\n",
        "\n"
      ]
    },
    {
      "metadata": {
        "id": "hwN9COgxWFdg",
        "colab_type": "text"
      },
      "cell_type": "markdown",
      "source": [
        "## Google Colaboratory\n",
        "\n",
        "This notebook was developed with Google Colaboratory which requires a few extra steps to install the extra packages and setup the programming environment. Because data is stored in Google Sheets, file names should be specified as Google Drive file identifiers found in the webpage URL for a particular spreadsheet."
      ]
    },
    {
      "metadata": {
        "id": "yLKUwUehDPjy",
        "colab_type": "code",
        "colab": {}
      },
      "cell_type": "code",
      "source": [
        "import numpy as np\n",
        "import pandas as pd\n",
        "import scipy as sp\n",
        "\n",
        "import random\n",
        "\n",
        "from collections import namedtuple, defaultdict\n",
        "from functools import lru_cache"
      ],
      "execution_count": 0,
      "outputs": []
    },
    {
      "metadata": {
        "id": "9Q16rFeiVEYP",
        "colab_type": "code",
        "colab": {}
      },
      "cell_type": "code",
      "source": [
        "!pip install -U -q gspread"
      ],
      "execution_count": 0,
      "outputs": []
    },
    {
      "metadata": {
        "id": "vysVbpShOXcW",
        "colab_type": "code",
        "colab": {}
      },
      "cell_type": "code",
      "source": [
        "import google.auth\n",
        "\n",
        "from google.colab import auth, files\n",
        "auth.authenticate_user()\n",
        "\n",
        "# Use the Application Default Credentials through Google Cloud SDK to provide access to Drive\n",
        "credentials, project_id = google.auth.default()"
      ],
      "execution_count": 0,
      "outputs": []
    },
    {
      "metadata": {
        "id": "KXCmi3hsNxBo",
        "colab_type": "code",
        "colab": {}
      },
      "cell_type": "code",
      "source": [
        "import gspread\n",
        "\n",
        "# Monkey patch gspread to support google-auth (https://github.com/burnash/gspread/pull/637)\n",
        "def login(self):\n",
        "    \"\"\"Authorize client.\"\"\"\n",
        "    if not self.auth.token or (hasattr(self.auth, 'expired') and self.auth.expired):\n",
        "        from google.auth.transport.requests import Request\n",
        "\n",
        "        self.auth.refresh(Request())\n",
        "\n",
        "    self.session.headers.update({\n",
        "        'Authorization': 'Bearer %s' % self.auth.token\n",
        "    })\n",
        "\n",
        "gspread.Client.login = login\n",
        "\n",
        "gc = gspread.authorize(credentials)"
      ],
      "execution_count": 0,
      "outputs": []
    },
    {
      "metadata": {
        "id": "0hE2cd4SMyh9",
        "colab_type": "text"
      },
      "cell_type": "markdown",
      "source": [
        "Default to reading from a Google Sheet as the standard dataframe storage format. Saving the dataframe writes the dataframe as a temporary file to the local Colab storage and then downloads the file to the local client."
      ]
    },
    {
      "metadata": {
        "id": "5PTv90NCNE8Y",
        "colab_type": "code",
        "colab": {}
      },
      "cell_type": "code",
      "source": [
        "def load_dataframe(spreadsheet_id, worksheet_name=None, *args, **kwargs):\n",
        "    \"\"\"Return a dataframe from the given spreadsheet_id and worksheet_name. If worksheet_name is\n",
        "    not specified, use the default sheet1 target.\n",
        "    \"\"\"\n",
        "    df = pd.DataFrame.from_records(\n",
        "        gc.open_by_key(spreadsheet_id).worksheet(worksheet_name).get_all_values()\n",
        "        if worksheet_name else\n",
        "        gc.open_by_key(spreadsheet_id).sheet1.get_all_values()\n",
        "    )\n",
        "    return df.rename(columns=df.iloc[0]).drop(df.index[0])\n",
        "\n",
        "\n",
        "def save_dataframe(df, filename, *args, **kwargs):\n",
        "    \"\"\"save the given df to the filename and download the saved file to the local host system.\"\"\"\n",
        "    if not filename:\n",
        "        raise ValueError(f'Invalid filename: {filename}')\n",
        "    df.to_csv(filename, *args, **kwargs)\n",
        "    files.download(filename)"
      ],
      "execution_count": 0,
      "outputs": []
    },
    {
      "metadata": {
        "id": "hMmyh0yCmuBb",
        "colab_type": "text"
      },
      "cell_type": "markdown",
      "source": [
        "## Data representation"
      ]
    },
    {
      "metadata": {
        "id": "kXV7BHujoJoL",
        "colab_type": "code",
        "cellView": "form",
        "colab": {}
      },
      "cell_type": "code",
      "source": [
        "#@title Students\n",
        "#@markdown The `students` dataframe is computed by joining the `exam_scores` with the validated `survey` data. The students in the validated `survey` are a strict subset of those who took the exam and are still enrolled in the course.\n",
        "\n",
        "#@markdown Display the resulting dataframes and series output in this section. Disable to reduce verbosity.\n",
        "DISPLAY_DATA = False #@param {type:\"boolean\"}"
      ],
      "execution_count": 0,
      "outputs": []
    },
    {
      "metadata": {
        "id": "TLueSzOvDPkm",
        "colab_type": "code",
        "colab": {}
      },
      "cell_type": "code",
      "source": [
        "#@markdown The **survey** data format is highly structured and requires all of the columns in the exact order and field format declared in the **Column extraction** section. If the data is to be loaded from a downloaded CSV, the CSV must be downloaded directly from the Google Form, rather than from a linked Google Sheet so that all values are properly quoted.\n",
        "SURVEY_FILE = '' #@param {type:\"string\"}\n",
        "SURVEY_NAME = '' #@param {type:\"string\"}\n",
        "\n",
        "#@markdown Define the column names: the student email address, student name, and student ID.\n",
        "SURVEY_EMAIL_C = 'Email Address' #@param {type:\"string\"}\n",
        "SURVEY_NAME_C = 'What is your preferred name?' #@param {type:\"string\"}\n",
        "SURVEY_SID_C = 'What is your student ID?' #@param {type:\"string\"}\n",
        "\n",
        "#@markdown Drop the survey consent column. To submit a response through this form, students must have consented to the research.\n",
        "SURVEY_CONSENT_C = 'By completing this survey and participating in the Computer Science Mentors program for CS 61A, you consent to take part in the research.' #@param {type:\"string\"}\n",
        "\n",
        "survey = (\n",
        "    load_dataframe(SURVEY_FILE, SURVEY_NAME)\n",
        "    .loc[:, SURVEY_EMAIL_C:]\n",
        "    .drop(columns=[SURVEY_CONSENT_C])\n",
        "    .set_index(SURVEY_SID_C)\n",
        ")\n",
        "\n",
        "if DISPLAY_DATA:\n",
        "    survey"
      ],
      "execution_count": 0,
      "outputs": []
    },
    {
      "metadata": {
        "id": "LTbKEAQou-By",
        "colab_type": "code",
        "cellView": "both",
        "colab": {}
      },
      "cell_type": "code",
      "source": [
        "#@markdown Import **exam scores**, keyed on student ID, as a dataframe. Requires a sheet with the following columns.\n",
        "#@markdown > **Student ID, Exam Score**\n",
        "EXAM_SCORES_FILE = '' #@param {type:\"string\"}\n",
        "EXAM_SCORES_NAME = '' #@param {type:\"string\"}\n",
        "\n",
        "#@markdown Define the column names: the student ID and their exam score.\n",
        "EXAM_SID_C = 'SID' #@param {type:\"string\"}\n",
        "EXAM_SCORE_C = 'Total Score' #@param {type:\"string\"}\n",
        "\n",
        "exam_scores = (\n",
        "    load_dataframe(EXAM_SCORES_FILE, EXAM_SCORES_NAME)\n",
        "    .loc[:, [EXAM_SID_C, EXAM_SCORE_C]]\n",
        "    .set_index(EXAM_SID_C)\n",
        "    .replace('', np.nan)\n",
        "    .dropna()\n",
        "    .astype(float)\n",
        ")\n",
        "\n",
        "if DISPLAY_DATA:\n",
        "    exam_scores"
      ],
      "execution_count": 0,
      "outputs": []
    },
    {
      "metadata": {
        "id": "BusvK6SOxBDr",
        "colab_type": "code",
        "colab": {}
      },
      "cell_type": "code",
      "source": [
        "#@markdown Import the **student roster** to validate the survey data and exam scores. Students who are not in the roster will be dropped from the assignment procedure. Requires a sheet of all of the enrolled student IDs.\n",
        "ROSTER_FILE = '' #@param {type:\"string\"}\n",
        "ROSTER_NAME = '' #@param {type:\"string\"}\n",
        "\n",
        "#@markdown Define the column name for the student ID.\n",
        "ROSTER_SID_C = 'Student ID' #@param {type:\"string\"}\n",
        "\n",
        "roster = load_dataframe(ROSTER_FILE, ROSTER_NAME)[ROSTER_SID_C]\n",
        "\n",
        "if DISPLAY_DATA:\n",
        "    roster"
      ],
      "execution_count": 0,
      "outputs": []
    },
    {
      "metadata": {
        "id": "RbkrKHsJjAEK",
        "colab_type": "code",
        "colab": {}
      },
      "cell_type": "code",
      "source": [
        "withheld_students = survey[\n",
        "    ~(survey.index.isin(exam_scores.index) & survey.index.isin(roster))\n",
        "]\n",
        "\n",
        "if DISPLAY_DATA:\n",
        "    withheld_students"
      ],
      "execution_count": 0,
      "outputs": []
    },
    {
      "metadata": {
        "id": "HqD4qXA_SiOi",
        "colab_type": "code",
        "colab": {}
      },
      "cell_type": "code",
      "source": [
        "students = exam_scores.join(survey[\n",
        "    ~survey.index.isin(withheld_students)\n",
        "], how='right')\n",
        "\n",
        "if DISPLAY_DATA:\n",
        "    students"
      ],
      "execution_count": 0,
      "outputs": []
    },
    {
      "metadata": {
        "id": "XV37XfTokYzy",
        "colab_type": "code",
        "colab": {}
      },
      "cell_type": "code",
      "source": [
        "SID_C = students.index.name\n",
        "(MIDTERM_C, STUDENT_EMAIL_C, STUDENT_NAME_C,\n",
        " # Availability\n",
        " MON_C, TUE_C, WED_C,\n",
        " # Demographic and identity questions\n",
        " GROUPS_Q, GENDER_Q, ETHNIC_Q, AGEGRP_Q, FIRSTG_Q, INTNLS_Q, TRNSFR_Q, INTMJR_Q,\n",
        " # General evaluation questions\n",
        " LIKELY_Q, WRITEP_Q, LEARNC_Q, ANXITY_Q, STRESS_Q, ENCRGE_Q, PICTUR_Q,\n",
        " # Class-specific belonging questions\n",
        " CLASS_SUPPRT_Q, CLASS_PARTOF_Q, CLASS_ACCEPT_Q, CLASS_COMFRT_Q,\n",
        " # Community-specific belonging questions\n",
        " CMNTY_SUPPRT_Q, CMNTY_PARTOF_Q, CMNTY_ACCEPT_Q, CMNTY_COMFRT_Q) = students.columns\n",
        "\n",
        "#@markdown Define the days over which sections can take place. This will be used to extract columns from the schedule and from students' availabilities. If modifications are made, ensure that `DAY_COLUMNS` and the day names are changed as well.\n",
        "DAYS = 'Monday, Tuesday, Wednesday' #@param {type:\"string\"}\n",
        "DAYS = DAYS.split(', ')\n",
        "\n",
        "DAY_COLUMNS = [MON_C, TUE_C, WED_C]\n",
        "\n",
        "#@markdown Define the delimiter for section availability.\n",
        "TIME_DELIMITER = ', ' #@param {type:\"string\"}\n",
        "\n",
        "\n",
        "class Student(namedtuple('Student', ['SID'] + list(students.columns), rename=True)):\n",
        "\n",
        "    _idx = {name: i for i, name in enumerate([students.index.name] + list(students.columns))}\n",
        "\n",
        "    @property\n",
        "    @lru_cache(maxsize=None)\n",
        "    def availability(self):\n",
        "        return frozenset(\n",
        "            f'{hour} {day}'\n",
        "            for column, day in zip(DAY_COLUMNS, DAYS)\n",
        "            for hour in self[column].split(TIME_DELIMITER)\n",
        "        )\n",
        "\n",
        "    def __getitem__(self, key):\n",
        "        if isinstance(key, str):\n",
        "            return super().__getitem__(self._idx[key])\n",
        "        return super().__getitem__(key)\n",
        "\n",
        "    def __eq__(self, other):\n",
        "        return self[0] == other[0]\n",
        "\n",
        "    def __hash__(self):\n",
        "        return hash(self[0])\n",
        "\n",
        "class Students(pd.DataFrame):\n",
        "\n",
        "    _internal_names = pd.DataFrame._internal_names + ['_tuples', '_arrays']\n",
        "    _internal_names_set = set(_internal_names)\n",
        "\n",
        "    _tuples = None\n",
        "    _arrays = None\n",
        "\n",
        "    @property\n",
        "    def tuples(self):\n",
        "        if self._tuples is None:\n",
        "            self._tuples = {student[SID_C]: student for student in self.itertuples()}\n",
        "        return self._tuples\n",
        "\n",
        "    def itertuples(self):\n",
        "        if self._arrays is None:\n",
        "            self._arrays = [self.index] + [self.iloc[:, k] for k in range(len(self.columns))]\n",
        "        return map(Student._make, zip(*self._arrays))\n",
        "\n",
        "    @property\n",
        "    def _constructor(self):\n",
        "        return Students\n",
        "\n",
        "students = Students(students)\n",
        "\n",
        "for _, student in zip(range(5), students.tuples.values()):\n",
        "    student_id = student[SID_C]\n",
        "    midterm_score = student[MIDTERM_C]\n",
        "    monday_availability = student[MON_C]\n",
        "    print(f'{student_id} got {midterm_score} points and can make {monday_availability} Monday')"
      ],
      "execution_count": 0,
      "outputs": []
    },
    {
      "metadata": {
        "id": "bqnbv-dt01xT",
        "colab_type": "code",
        "cellView": "form",
        "colab": {}
      },
      "cell_type": "code",
      "source": [
        "#@title Sections\n",
        "#@markdown Import the schedule of sections. Requires a sheet with the following columns.\n",
        "#@markdown > **Teacher Email, Teacher Name, Room, Capacity, Time**\n",
        "#@markdown A unique section key is defined on the tuple *(Identifier, Time)* to allow for teachers with the same identifier (i.e. email) to teach multiple sections at different times. Not all data is used until the end of the processing pipeline. For example, the teacher's name is not referenced until sending personalized emails.\n",
        "\n",
        "#@markdown Display the resulting dataframes and series output in this section. Disable to reduce verbosity.\n",
        "DISPLAY_DATA = False #@param {type:\"boolean\"}"
      ],
      "execution_count": 0,
      "outputs": []
    },
    {
      "metadata": {
        "id": "Z9SojOIzJJIV",
        "colab_type": "code",
        "cellView": "both",
        "colab": {}
      },
      "cell_type": "code",
      "source": [
        "SECTION_FILE = '' #@param {type:\"string\"}\n",
        "SECTION_NAME = '' #@param {type:\"string\"}\n",
        "\n",
        "#@markdown Define the column names: teacher email, teacher name, room, capacity, and time.\n",
        "TEACHER_EMAIL_C = 'Email' #@param {type:\"string\"}\n",
        "TEACHER_NAME_C = 'Name' #@param {type:\"string\"}\n",
        "ROOM_C = 'Room' #@param {type:\"string\"}\n",
        "CAPACITY_C = 'Capacity' #@param {type:\"string\"}\n",
        "TIME_C = 'Time' #@param {type:\"string\"}\n",
        "\n",
        "#@markdown Define parameters for the generated section codes.\n",
        "CODE_C = 'Code' #@param {type:\"string\"}\n",
        "CODE_LENGTH = 6 #@param {type:\"integer\"}\n",
        "\n",
        "sections = load_dataframe(SECTION_FILE, SECTION_NAME)\n",
        "\n",
        "# Drop rows with blank entries.\n",
        "sections = sections[sections != ''].dropna()\n",
        "\n",
        "# Given date-time strings, convert them to the canonical format (e.g. 9 AM Monday).\n",
        "sections[TIME_C] = sections[TIME_C].apply(\n",
        "    lambda s: pd.to_datetime(''.join(s.split()[1:]) + ' ' + s.split()[0])\n",
        ").dt.strftime('%-I %p %A')\n",
        "\n",
        "# Interpret section capacity as an integer.\n",
        "sections[CAPACITY_C] = sections[CAPACITY_C].astype(int)\n",
        "\n",
        "# Generate section control codes to uniquely identify each section by the email and time.\n",
        "def ccn(email, time, length=CODE_LENGTH):\n",
        "    \"\"\"Return the section code uniquely identifying the section.\"\"\"\n",
        "    return str(abs(hash((email, time))))[:length].zfill(length)\n",
        "\n",
        "sections[CODE_C] = pd.Series([\n",
        "    ccn(email, time) for email, time in sections[[TEACHER_EMAIL_C, TIME_C]].itertuples(index=False)\n",
        "])\n",
        "\n",
        "sections = sections.set_index(CODE_C)\n",
        "\n",
        "if DISPLAY_DATA:\n",
        "    sections"
      ],
      "execution_count": 0,
      "outputs": []
    },
    {
      "metadata": {
        "id": "FG6x3jOll3ax",
        "colab_type": "code",
        "colab": {}
      },
      "cell_type": "code",
      "source": [
        "CODE_C = sections.index.name\n",
        "TEACHER_EMAIL_C, TEACHER_NAME_C, ROOM_C, CAPACITY_C, TIME_C = sections.columns\n",
        "\n",
        "\n",
        "class Section(namedtuple('Section', ['Code'] + list(sections.columns), rename=True)):\n",
        "\n",
        "    _idx = {name: i for i, name in enumerate([sections.index.name] + list(sections.columns))}\n",
        "\n",
        "    def __getitem__(self, key):\n",
        "        if isinstance(key, str):\n",
        "            return super().__getitem__(self._idx[key])\n",
        "        return super().__getitem__(key)\n",
        "\n",
        "    def __eq__(self, other):\n",
        "        return self[0] == other[0]\n",
        "\n",
        "    def __hash__(self):\n",
        "        return hash(self[0])\n",
        "\n",
        "class Sections(pd.DataFrame):\n",
        "\n",
        "    _internal_names = pd.DataFrame._internal_names + ['_tuples', '_arrays', 'matching']\n",
        "    _internal_names_set = set(_internal_names)\n",
        "\n",
        "    _tuples = None\n",
        "    _arrays = None\n",
        "\n",
        "    def __init__(self, *args, **kwargs):\n",
        "        super().__init__(*args, **kwargs)\n",
        "        # Attach the lru_cache to each instance's bound method rather than the class function.\n",
        "        self.matching = lru_cache(maxsize=None)(self._matching)\n",
        "\n",
        "    @property\n",
        "    def tuples(self):\n",
        "        if self._tuples is None:\n",
        "            self._tuples = {section[CODE_C]: section for section in self.itertuples()}\n",
        "        return self._tuples\n",
        "\n",
        "    def itertuples(self):\n",
        "        if self._arrays is None:\n",
        "            self._arrays = [self.index] + [self.iloc[:, k] for k in range(len(self.columns))]\n",
        "        return map(Section._make, zip(*self._arrays))\n",
        "\n",
        "    def _matching(self, student):\n",
        "        \"\"\"Return the Sections matching the student's availability.\"\"\"\n",
        "        return frozenset(\n",
        "            section\n",
        "            for time in student.availability\n",
        "            for section in self[self[TIME_C] == time].itertuples()\n",
        "        )\n",
        "\n",
        "    @property\n",
        "    def _constructor(self):\n",
        "        return Sections\n",
        "\n",
        "sections = Sections(sections)\n",
        "\n",
        "for _, section in zip(range(5), sections.tuples.values()):\n",
        "    code = section[CODE_C]\n",
        "    email = section[TEACHER_EMAIL_C]\n",
        "    time = section[TIME_C]\n",
        "    print(f'{code} is the unique identifier for the section ({email}, {time})')"
      ],
      "execution_count": 0,
      "outputs": []
    },
    {
      "metadata": {
        "id": "-HR_PTM2opN7",
        "colab_type": "text"
      },
      "cell_type": "markdown",
      "source": [
        "## Solve the Assignment Problem\n",
        "\n",
        "The section scheduling problem is an instance of the [generalized assignment problem](https://en.wikipedia.org/wiki/Generalized_assignment_problem), a constrained, combinatorial optimization problem where multiple students may be assigned to a single section."
      ]
    },
    {
      "metadata": {
        "id": "u1mXd4ZvrYkM",
        "colab_type": "text"
      },
      "cell_type": "markdown",
      "source": [
        "### Objective functions\n",
        "\n",
        "Define the objective functions used in the optimization problem. We use the following mathematical notation and functions.\n",
        "\n",
        "- $\\sigma(\\cdot)$ is the population variance, so for the set $X$,\n",
        "$$\\sigma(X) = \\frac{1}{n} \\sum_{i \\in n} (x_i - \\bar{x})^2$$\n",
        "\n",
        "- $g^*_X$ is the group with the theoretical maximum possible variance on set $X$, so\n",
        "$$\\sigma(g^*_X) = \\frac{(\\max X - \\min X)^2}{4}$$\n",
        "\n",
        "- $\\mathrm{likert}(\\cdot)$ is a mapping from strings to the integers based on the [Likert scale](https://en.wikipedia.org/wiki/Likert_scale).\n",
        "\n",
        "A solution is characterized by its assignment of students to sections. Let each student, $s_j \\in S$ have an exam score, $e_j$, and a string choice for collaboration (*I prefer to work in a group*), $c_j$ . Let $g_i \\in G$ represent each group of students (each $s_j$) assigned to group, $s_j \\in g_i$.\n",
        "\n",
        "In the code below, we define `max_scores_variance` and `max_likert_variance` to normalize exam score and likert responses, respectively."
      ]
    },
    {
      "metadata": {
        "id": "3W2zsy91jbyZ",
        "colab_type": "code",
        "colab": {}
      },
      "cell_type": "code",
      "source": [
        "LIKERT = {\n",
        "    'Strongly agree': 5,\n",
        "    'Somewhat agree': 4,\n",
        "    'Neither agree nor disagree': 3,\n",
        "    'Somewhat disagree': 2,\n",
        "    'Strongly disagree': 1,\n",
        "\n",
        "    'Extremely likely': 5,\n",
        "    'Somewhat likely': 4,\n",
        "    'Neither likely nor unlikely': 3,\n",
        "    'Somewhat unlikely': 2,\n",
        "    'Extremely unlikely': 1,\n",
        "}\n",
        "\n",
        "max_scores_variance = ((students[MIDTERM_C].max() - students[MIDTERM_C].min()) ** 2) / 4\n",
        "max_likert_variance = ((max(LIKERT.values()) - min(LIKERT.values())) ** 2) / 4"
      ],
      "execution_count": 0,
      "outputs": []
    },
    {
      "metadata": {
        "id": "3PfHgCJqjiz-",
        "colab_type": "text"
      },
      "cell_type": "markdown",
      "source": [
        "#### Trivial objective\n",
        "\n",
        "The **trivial objective** simply returns a constant value, $0$, so any valid assignment of students to sections is considered optimal. Since the algorithm is randomized, section assignments will also be randomized based on an initial seed defined later."
      ]
    },
    {
      "metadata": {
        "id": "Nq5xPnjwjtPd",
        "colab_type": "code",
        "colab": {}
      },
      "cell_type": "code",
      "source": [
        "def trivial(assignments, schedule):\n",
        "    \"\"\"Return the trivial objective, not taking into account any data.\"\"\"\n",
        "    return 0"
      ],
      "execution_count": 0,
      "outputs": []
    },
    {
      "metadata": {
        "id": "1N_rQ3bVjljI",
        "colab_type": "text"
      },
      "cell_type": "markdown",
      "source": [
        "#### Ability objective\n",
        "\n",
        "The **ability objective** returns the sum of each section's variance in exam scores normalized by the maximum possible intra-group variance.\n",
        "\n",
        "$$\\sum_{g_i \\in G} \\frac{\\sigma(e_j \\forall s_j \\in g_i)}{\\sigma(e_j \\forall s_j \\in g^*_S)}$$"
      ]
    },
    {
      "metadata": {
        "id": "7wwtspx_ju7U",
        "colab_type": "code",
        "colab": {}
      },
      "cell_type": "code",
      "source": [
        "def ability(assignments, schedule):\n",
        "    \"\"\"Return the sum of each section's variance in exam scores.\"\"\"\n",
        "    return sum(\n",
        "        np.var([student[MIDTERM_C] for student in students]) / max_scores_variance\n",
        "        for students in schedule.values()\n",
        "    )"
      ],
      "execution_count": 0,
      "outputs": []
    },
    {
      "metadata": {
        "id": "zLywi0rFjnx1",
        "colab_type": "text"
      },
      "cell_type": "markdown",
      "source": [
        "#### Collaboration objective\n",
        "\n",
        "The **collaboration objective** returns the sum of each section's variance in exam scores with the variance in their Likert-scaled responses to the statement, *I prefer to work in a group*.\n",
        "\n",
        "Both terms are normalized, and the likert scale is given an additional scalar, `COLLABORATION_WEIGHT`, to control its effect.\n",
        "\n",
        "$$\\sum_{g_i \\in G} \\left(\\frac{\\sigma(e_j \\forall s_j \\in g_i)}{\\sigma(e_j \\forall s_j \\in g^*_S)} + \\texttt{COLLABORATION_WEIGHT} \\cdot \\frac{\\sigma(\\mathrm{likert}(c_j)~\\forall s_j \\in g_i)}{\\sigma(\\mathrm{likert}(c_j)~\\forall s_j \\in g^*_S)}\\right)$$"
      ]
    },
    {
      "metadata": {
        "id": "bF7HwzO6jwvH",
        "colab_type": "code",
        "cellView": "both",
        "colab": {}
      },
      "cell_type": "code",
      "source": [
        "#@markdown Define the constant, *c*, the collaboration weight.\n",
        "COLLABORATION_WEIGHT = 0.75 #@param {type:\"number\"}\n",
        "\n",
        "def collaboration(assignments, schedule):\n",
        "    \"\"\"Return the sum of each section's variance in exam scores and the variance in preference for\n",
        "    working in groups.\n",
        "    \"\"\"\n",
        "    return sum(\n",
        "        np.var([student[MIDTERM_C] for student in students]) / max_scores_variance\n",
        "        + COLLABORATION_WEIGHT * (\n",
        "            np.var([LIKERT[student[GROUPS_Q]] for student in students])\n",
        "            / max_likert_variance\n",
        "        )\n",
        "        for students in schedule.values()\n",
        "    )"
      ],
      "execution_count": 0,
      "outputs": []
    },
    {
      "metadata": {
        "id": "hXsJK1nGjp_n",
        "colab_type": "text"
      },
      "cell_type": "markdown",
      "source": [
        "#### Identity objective\n",
        "\n",
        "The **identity objective** returns the sum of each section's variance in exam scores, normalized against the maximum possible variance, but further penalizing solutions with groups which have exactly 1 student who would otherwise feel isolated on the basis of their identity, modeled by the $\\mathit{isolation}(\\cdot)$ function.\n",
        "\n",
        "As with the collaboration objective, the parameter `IDENTITY_WEIGHT` controls the effect of the isolation penalty. Each of the `ISOLATION_PARAMETERS` imposes a penalty to the overall quality of the solution. The `isolation_penalty` prefers sections containing zero or two such students, rather than only one student, to avoid creating groups with one student who may otherwise feel isolated in the section.\n",
        "\n",
        "> $$\\sum_{g_i \\in G} \\left(\\frac{\\sigma(e_j \\forall s_j \\in g_i)}{\\sigma(e_j \\forall s_j \\in g^*_S)} + \\texttt{IDENTITY_WEIGHT} \\cdot \\mathit{isolation}(s_j \\in g_i)\\right)$$"
      ]
    },
    {
      "metadata": {
        "id": "l8evWjxwjyuP",
        "colab_type": "code",
        "cellView": "both",
        "colab": {}
      },
      "cell_type": "code",
      "source": [
        "#@markdown Define the constant, *i*, the identity weight.\n",
        "IDENTITY_WEIGHT = 0.1 #@param {type:\"number\"}\n",
        "\n",
        "#@markdown Define the penalties for each isolation parameter. These values are multiplied with the identity weight to compute the group penalty.\n",
        "GENDER_PENALTY = 1.5 #@param {type:\"number\"}\n",
        "ETHNIC_PENALTY = 1 #@param {type:\"number\"}\n",
        "AGEGRP_PENALTY = 1 #@param {type:\"number\"}\n",
        "TRNSFR_PENALTY = 1 #@param {type:\"number\"}\n",
        "INTMJR_PENALTY = 1 #@param {type:\"number\"}\n",
        "\n",
        "ISOLATION_PARAMETERS = (\n",
        "    ((lambda s: s[GENDER_Q] in ('Female', 'Genderqueer / non-binary')),\n",
        "     GENDER_PENALTY),\n",
        "    ((lambda s: s[ETHNIC_Q] == 'Black or African American'),\n",
        "     ETHNIC_PENALTY),\n",
        "    ((lambda s: s[ETHNIC_Q] == 'Chicano or Latino'),\n",
        "     ETHNIC_PENALTY),\n",
        "    ((lambda s: s[ETHNIC_Q] == 'Middle Eastern or North African'),\n",
        "     ETHNIC_PENALTY),\n",
        "    ((lambda s: s[ETHNIC_Q] == 'Native American or Alaska Native'),\n",
        "     ETHNIC_PENALTY),\n",
        "    ((lambda s: s[ETHNIC_Q] == 'Pacific Islander'),\n",
        "     ETHNIC_PENALTY),\n",
        "    ((lambda s: s[AGEGRP_Q] in ('25-29 years old', '30-34 years old', '35 years old or older')),\n",
        "     AGEGRP_PENALTY),\n",
        "    ((lambda s: s[TRNSFR_Q].startswith('Yes')),\n",
        "     TRNSFR_PENALTY),\n",
        "    ((lambda s: all(major not in ('Computer Science', 'EECS') for major in s[INTMJR_Q].split(', '))),\n",
        "     INTMJR_PENALTY),\n",
        ")\n",
        "\n",
        "def isolation_penalty(students, parameters=ISOLATION_PARAMETERS):\n",
        "    \"\"\"Return a non-negative penalty if the group of students contains a student who might feel\n",
        "    isolated in the group. The penalty value varies based on the parameters.\n",
        "    \"\"\"\n",
        "    for parameter, penalty in parameters:\n",
        "        if sum(parameter(student) for student in students) == 1:\n",
        "            return penalty\n",
        "    return 0\n",
        "\n",
        "def identity(assignments, schedule):\n",
        "    \"\"\"Return the sum of each sections' variance in exam scores and the isolation penalty.\"\"\"\n",
        "    return sum(\n",
        "        np.var([student[MIDTERM_C] for student in students]) / max_scores_variance\n",
        "        + IDENTITY_WEIGHT * isolation_penalty(students)\n",
        "        for students in schedule.values()\n",
        "    )"
      ],
      "execution_count": 0,
      "outputs": []
    },
    {
      "metadata": {
        "id": "8bC_Gxyflo5M",
        "colab_type": "text"
      },
      "cell_type": "markdown",
      "source": [
        "Collect all of the objectives into a list of functions and a list of their names for categorizing and identifying results."
      ]
    },
    {
      "metadata": {
        "id": "tVcKr5hzDPk0",
        "colab_type": "code",
        "colab": {}
      },
      "cell_type": "code",
      "source": [
        "objective_functions = [\n",
        "    trivial,\n",
        "    ability,\n",
        "    collaboration,\n",
        "    identity,\n",
        "]"
      ],
      "execution_count": 0,
      "outputs": []
    },
    {
      "metadata": {
        "id": "uod0tZbiDPlK",
        "colab_type": "text"
      },
      "cell_type": "markdown",
      "source": [
        "### Solution generation\n",
        "\n",
        "At a high-level, the solution to the assignment problem is generated using the following procedure.\n",
        "\n",
        "1. Using random assignment, split the students into treatment/control groups, one for each objective function.\n",
        "2. Using the student splits, compute the optimal `partition` of the section schedule into different treatment conditions so that as many students can be accommodated across all groups possible.\n",
        "3. Compute the `initial` solution by assigning as many students as possible into sections. Students who are impossible to schedule are dropped.\n",
        "4. Iteratively improve the solution using the simulated annealing algorithm provided by `anneal`, which calls the `Solution.neighbor` method to compute the next neighboring solution.\n",
        "\n",
        "`Solution.neighbor` will choose between three possible actions to compute a potential neighboring solution. Which of the three actions is taken is chosen at random.\n",
        "\n",
        "1. Schedule a student who was previously dropped (\"unscheduled\") by the algorithm. Iterate through all of the unscheduled students and attempt to schedule them one-by-one. If not possible, swap a student instead.\n",
        "2. Unschedule, or drop, a student who is currently scheduled. This allows the algorithm to more easily escape a local optimum at the cost of decreasing total enrollment. If not possible, swap a student instead.\n",
        "3. Swap a student with another student, so long as both students can attend each other's sections."
      ]
    },
    {
      "metadata": {
        "id": "OjQ7JpyhKrJt",
        "colab_type": "code",
        "cellView": "both",
        "colab": {}
      },
      "cell_type": "code",
      "source": [
        "SEED_PHRASE = 'Computer Science Mentors' #@param {type:\"string\"}\n",
        "\n",
        "SEED = sum(ord(c) for c in SEED_PHRASE)\n",
        "RAND = np.random.RandomState(SEED)\n",
        "random.seed(SEED)\n",
        "\n",
        "def shuffled(iterable):\n",
        "    \"\"\"Return a new list representing a random shuffling of the items in the iterable.\"\"\"\n",
        "    lst = [x for x in iterable]\n",
        "    random.shuffle(lst)\n",
        "    return lst"
      ],
      "execution_count": 0,
      "outputs": []
    },
    {
      "metadata": {
        "id": "bsZd0I-FaPxr",
        "colab_type": "code",
        "cellView": "both",
        "colab": {}
      },
      "cell_type": "code",
      "source": [
        "#@title `Solution` class\n",
        "#@markdown Define the probability weights for each of the possible actions taken by the `neighbor` method. These probabilities will be normalized so they don't need to add to 1.\n",
        "SCHEDULE_STUDENT_WEIGHT = 0.9 #@param {type:\"number\"}\n",
        "UNSCHEDULE_STUDENT_WEIGHT = 0.1 #@param {type:\"number\"}\n",
        "SWAP_STUDENT_WEIGHT = 0 #@param {type:\"number\"}\n",
        "\n",
        "#@markdown Define the fraction of initial assignments that the `neighbor` algorithm must maintain in the solution. Lower values will drop more students, which may optimize the solution at the cost of reducing total enrollment.\n",
        "MIN_ASSIGNMENTS_FACTOR = 0.95 #@param {type:\"number\"}\n",
        "\n",
        "class Solution:\n",
        "    \"\"\"An immutable solution class which contains the assignments of students to sections, sections\n",
        "    to sets of students, the set of unscheduled students, and methods to compute new solutions.\n",
        "    \"\"\"\n",
        "\n",
        "    @classmethod\n",
        "    def initial(cls, students, sections, objective, quiet=False):\n",
        "        \"\"\"Solution factory method that computes an initial assignment of students to sections,\n",
        "        dropping students whose availability is too incompatible with the schedule.\n",
        "        \"\"\"\n",
        "        unscheduled = set()\n",
        "        while True:\n",
        "            assignments = {}\n",
        "            schedule = defaultdict(set)\n",
        "            conflict = None\n",
        "            for student in shuffled(students.tuples.values()):\n",
        "                conflict = student\n",
        "                for section in shuffled(sections.matching(student)):\n",
        "                    if len(schedule[section]) < section[CAPACITY_C]:\n",
        "                        assignments[student] = section\n",
        "                        schedule[section].add(student)\n",
        "                        conflict = None\n",
        "                        break\n",
        "                if conflict:\n",
        "                    break\n",
        "            if conflict is None:\n",
        "                if not quiet:\n",
        "                    print(f'{objective.__name__}: {len(assignments)} assigned')\n",
        "                return cls(\n",
        "                    objective,\n",
        "                    assignments,\n",
        "                    schedule,\n",
        "                    unscheduled,\n",
        "                    sections.matching,\n",
        "                    int(len(assignments) * MIN_ASSIGNMENTS_FACTOR),\n",
        "                ).backfill(quiet=True, interactive=False)\n",
        "            else:\n",
        "                students = students.drop(index=conflict[SID_C])\n",
        "                unscheduled.add(conflict)\n",
        "\n",
        "    def __init__(self, objective, assignments, schedule, unscheduled=frozenset(),\n",
        "                 matching=lambda x: frozenset(), min_assignments=None):\n",
        "        \"\"\"Create a new Solution.\"\"\"\n",
        "        self.objective = objective\n",
        "        self.costs = {self.objective: self.objective(assignments, schedule)}\n",
        "        self.assignments = dict(assignments)\n",
        "        self.schedule = defaultdict(frozenset)\n",
        "        for section, students in schedule.items():\n",
        "            self.schedule[section] = students\n",
        "        self.unscheduled = unscheduled\n",
        "        self.matching = matching\n",
        "        if min_assignments is None:\n",
        "            self.min_assignments = len(assignments) + len(unscheduled)\n",
        "        else:\n",
        "            self.min_assignments = min_assignments\n",
        "\n",
        "    def cost(self, objective=None):\n",
        "        \"\"\"Return the cost as computed using the objective for this solution.\"\"\"\n",
        "        if objective is None or objective is self.objective:\n",
        "            return self.costs[self.objective]\n",
        "        elif objective not in self.costs:\n",
        "            self.costs[objective] = objective(self.assignments, self.schedule)\n",
        "        return self.costs[objective]\n",
        "\n",
        "    def add_student(self, student, section=None, not_at=None, quiet=False, interactive=False):\n",
        "        \"\"\"Return a new Solution scheduling the given student into the specified section.\"\"\"\n",
        "        if student in self.assignments:\n",
        "            if not quiet:\n",
        "                print(f'Already assigned: {student}')\n",
        "            return self\n",
        "        elif not quiet:\n",
        "            print(f'Assigning: {student}')\n",
        "        if section is None:\n",
        "            for match in shuffled(self.matching(student)):\n",
        "                if match[TIME_C] == not_at:\n",
        "                    continue\n",
        "                elif match[CAPACITY_C] > len(self.schedule[match]):\n",
        "                    if not quiet or interactive:\n",
        "                        print(f'Available section: {match}')\n",
        "                    accept = ''\n",
        "                    while interactive and accept == '':\n",
        "                        accept = input('Accept? [Y/N] ').lower()\n",
        "                    if not interactive or accept in ('y', 'yes'):\n",
        "                        section = match\n",
        "                        break\n",
        "            if section is None:\n",
        "                if not quiet:\n",
        "                    print(f'No available section: {student}')\n",
        "                return self\n",
        "        if not quiet:\n",
        "            print(f'Specified section: {section}')\n",
        "        if section[CAPACITY_C] <= len(self.schedule[section]):\n",
        "            if not quiet:\n",
        "                print(f'No space in section: {section}')\n",
        "            return self\n",
        "        return Solution(\n",
        "            self.objective,\n",
        "            {\n",
        "                **self.assignments,\n",
        "                student: section,\n",
        "            },\n",
        "            {\n",
        "                **self.schedule,\n",
        "                section: self.schedule[section] | {student},\n",
        "            },\n",
        "            self.unscheduled - {student},\n",
        "            self.matching,\n",
        "            self.min_assignments\n",
        "        )\n",
        "\n",
        "    def add_students(self, pairs, quiet=False, interactive=True):\n",
        "        \"\"\"Return a new Solution from enrolling (student, not_at) pairs into sections.\"\"\"\n",
        "        pairs = tuple(pairs)\n",
        "        solutions = (\n",
        "            self.add_student(\n",
        "                student, not_at=not_at, quiet=quiet, interactive=interactive\n",
        "            ) for student, not_at in pairs\n",
        "        )\n",
        "        pair, solution = min((\n",
        "            (pair, solution) for pair, solution in zip(pairs, solutions) if solution is not self\n",
        "        ), default=(None, self), key=lambda result: result[1].cost())\n",
        "        if solution is self:\n",
        "            return self\n",
        "        if not quiet:\n",
        "            print(f'Enrolled: {pair[0]}')\n",
        "            print(solution)\n",
        "        if interactive:\n",
        "            accept = ''\n",
        "            while accept == '':\n",
        "                accept = input('Accept? [Y/N] ').lower()\n",
        "            if accept not in ('y', 'yes'):\n",
        "                return self\n",
        "        return solution.add_students(frozenset(pairs) - {pair}, quiet=quiet, interactive=interactive)\n",
        "\n",
        "    def backfill(self, quiet=False, interactive=True):\n",
        "        \"\"\"Return a new Solution from enrolling remaining unscheduled students into sections.\"\"\"\n",
        "        return self.add_students(\n",
        "            zip(shuffled(self.unscheduled), [None] * len(self.unscheduled)),\n",
        "            quiet=quiet,\n",
        "            interactive=interactive\n",
        "        )\n",
        "\n",
        "    def drop_student(self, student):\n",
        "        \"\"\"Return a new Solution unscheduling the given student.\"\"\"\n",
        "        return self.drop_students([student])\n",
        "\n",
        "    def drop_students(self, to_drop):\n",
        "        \"\"\"Return a new Solution unscheduling the given students.\"\"\"\n",
        "        to_drop = frozenset(to_drop)\n",
        "        dropped = {\n",
        "            section: students & to_drop\n",
        "            for section, students in self.schedule.items()\n",
        "            if any(student in to_drop for student in students)\n",
        "        }\n",
        "        return Solution(\n",
        "            self.objective,\n",
        "            {\n",
        "                student: section\n",
        "                for student, section in self.assignments.items()\n",
        "                if student not in to_drop\n",
        "            },\n",
        "            {\n",
        "                section: students - to_drop\n",
        "                for section, students in self.schedule.items()\n",
        "                if section not in dropped\n",
        "            },\n",
        "            self.unscheduled | to_drop,\n",
        "            self.matching,\n",
        "            self.min_assignments,\n",
        "        ), dropped\n",
        "\n",
        "    def drop_section(self, section):\n",
        "        \"\"\"Return a new Solution unscheduling the given section.\"\"\"\n",
        "        return self.drop_sections([section])\n",
        "\n",
        "    def drop_sections(self, to_drop):\n",
        "        \"\"\"Return a new Solution unscheduling the given sections.\"\"\"\n",
        "        dropped = {section: self.schedule[section] for section in to_drop}\n",
        "        return Solution(\n",
        "            self.objective,\n",
        "            {\n",
        "                student: section\n",
        "                for student, section in self.assignments.items()\n",
        "                if section not in dropped\n",
        "            },\n",
        "            {\n",
        "                section: students\n",
        "                for section, students in self.schedule.items()\n",
        "                if section not in dropped\n",
        "            },\n",
        "            self.unscheduled.union(*dropped.values()),\n",
        "            self.matching,\n",
        "            self.min_assignments\n",
        "        ), dropped\n",
        "\n",
        "    def drop_underfull(self, min_size):\n",
        "        \"\"\"Return a new Solution unscheduling students in sections with strictly fewer than min_size\n",
        "        students, and the set of dropped sections.\n",
        "        \"\"\"\n",
        "        return self.drop_sections([\n",
        "            section\n",
        "            for section, students in self.schedule.items()\n",
        "            if len(students) < min_size\n",
        "        ])\n",
        "\n",
        "    def reschedule(self, students, not_at=None, quiet=False, interactive=True):\n",
        "        \"\"\"Return a new Solution rescheduling the students into sections at different times.\"\"\"\n",
        "        solution, dropped = self.drop_students(students)\n",
        "        if not quiet:\n",
        "            print(f'Dropped: {dropped.values()}')\n",
        "        if not_at is None:\n",
        "            pairs = (\n",
        "                (student, section[TIME_C])\n",
        "                for section, students in dropped.items()\n",
        "                for student in students\n",
        "            )\n",
        "        else:\n",
        "            pairs = zip(students, not_at)\n",
        "        return solution.add_students(pairs, quiet=quiet, interactive=interactive)\n",
        "\n",
        "    def neighbor(self):\n",
        "        \"\"\"Return a random new Solution which will choose to either enroll an unscheduled student,\n",
        "        unschedule a student, or swap two students, based on the given probability weights.\n",
        "        \"\"\"\n",
        "        return random.choices(self._options, self._weights, k=1)[0](self)\n",
        "\n",
        "    def _schedule_student(self):\n",
        "        \"\"\"Return a new Solution by randomly scheduling a previously-unscheduled student.\"\"\"\n",
        "        for student in shuffled(self.unscheduled):\n",
        "            solution = self.add_student(student, quiet=True)\n",
        "            if solution is not self:\n",
        "                return solution\n",
        "        return self._swap_student()\n",
        "\n",
        "    def _unschedule_student(self):\n",
        "        \"\"\"Return a new Solution by randomly unscheduling a single student, if allowed.\"\"\"\n",
        "        if len(self.assignments) > self.min_assignments:\n",
        "            return self.drop_student(random.choice(tuple(self.assignments)))[0]\n",
        "        return self._swap_student()\n",
        "\n",
        "    def _swap_student(self):\n",
        "        \"\"\"Return a new Solution by randomly swapping two students between sections.\"\"\"\n",
        "        for student, section in shuffled(self.assignments.items()):\n",
        "            for swap_section in self.matching(student):\n",
        "                if section == swap_section:\n",
        "                    continue\n",
        "                for swap_student in self.schedule[swap_section]:\n",
        "                    if section[TIME_C] in swap_student.availability:\n",
        "                        return Solution(\n",
        "                            self.objective,\n",
        "                            {\n",
        "                                **self.assignments,\n",
        "                                student: swap_section,\n",
        "                                swap_student: section,\n",
        "                            },\n",
        "                            {\n",
        "                                **self.schedule,\n",
        "                                section: (self.schedule[section] - {student}) | {swap_student},\n",
        "                                swap_section: (self.schedule[swap_section] - {swap_student}) | {student},\n",
        "                            },\n",
        "                            self.unscheduled,\n",
        "                            self.matching,\n",
        "                            self.min_assignments\n",
        "                        )\n",
        "        return self\n",
        "\n",
        "    def __str__(self):\n",
        "        return f'Solution optimizing for {self.objective.__name__}: {self.cost()}'\n",
        "\n",
        "    def __repr__(self):\n",
        "        return 'Solution(' + ', '.join([\n",
        "            self.objective.__name__,\n",
        "            f'assignments={len(self.assignments)}',\n",
        "            f'schedule={len(self.schedule)}',\n",
        "            f'unscheduled={len(self.unscheduled)}',\n",
        "            'matching',\n",
        "            str(self.min_assignments),\n",
        "        ]) + f'): {self.cost()}'\n",
        "\n",
        "    def __eq__(self, other):\n",
        "        return (\n",
        "            self.objective is other.objective\n",
        "            and self.assignments == other.assignments\n",
        "            and self.schedule == other.schedule\n",
        "        )\n",
        "\n",
        "    _options = (\n",
        "        _schedule_student,\n",
        "        _unschedule_student,\n",
        "        _swap_student,\n",
        "    )\n",
        "\n",
        "    _weights = (\n",
        "        SCHEDULE_STUDENT_WEIGHT,\n",
        "        UNSCHEDULE_STUDENT_WEIGHT,\n",
        "        SWAP_STUDENT_WEIGHT,\n",
        "    )"
      ],
      "execution_count": 0,
      "outputs": []
    },
    {
      "metadata": {
        "id": "Qx829OciOhNT",
        "colab_type": "text"
      },
      "cell_type": "markdown",
      "source": [
        "#### Split students into treatment conditions\n",
        "\n",
        "Use a process of random assignment to split students into groups."
      ]
    },
    {
      "metadata": {
        "id": "sfGnMGEgQW5B",
        "colab_type": "code",
        "colab": {}
      },
      "cell_type": "code",
      "source": [
        "num_conditions = len(objective_functions)"
      ],
      "execution_count": 0,
      "outputs": []
    },
    {
      "metadata": {
        "id": "mtpzu8atsHB-",
        "colab_type": "code",
        "colab": {}
      },
      "cell_type": "code",
      "source": [
        "groups_students = np.array_split(students.sample(frac=1, random_state=RAND), num_conditions)\n",
        "[len(group) for group in groups_students]"
      ],
      "execution_count": 0,
      "outputs": []
    },
    {
      "metadata": {
        "id": "g4GXEy5ZeYQg",
        "colab_type": "text"
      },
      "cell_type": "markdown",
      "source": [
        "#### Split sections into treatment conditions\n",
        "\n",
        "Use the excess capacity to determine the amount of sections that should be set aside for the withheld group and non-participants. Then, shuffle and split the `schedule` to compute a partitioning of sections between the different treatment conditions."
      ]
    },
    {
      "metadata": {
        "id": "f5nAoZQvecHh",
        "colab_type": "code",
        "colab": {}
      },
      "cell_type": "code",
      "source": [
        "excess = sections[CAPACITY_C].sum() - len(students)\n",
        "excess"
      ],
      "execution_count": 0,
      "outputs": []
    },
    {
      "metadata": {
        "id": "Yt-sMJ10g1kC",
        "colab_type": "code",
        "cellView": "both",
        "colab": {}
      },
      "cell_type": "code",
      "source": [
        "num_withhold = excess // sections[CAPACITY_C].max()\n",
        "withheld_sections = sections.sample(num_withhold, random_state=RAND)\n",
        "groups_sections = np.array_split(sections.drop(withheld_sections.index), num_conditions)\n",
        "initial_solutions = [\n",
        "    Solution.initial(group_students, group_sections, objective)\n",
        "    for group_students, group_sections, objective in zip(\n",
        "        groups_students, groups_sections, objective_functions\n",
        "    )\n",
        "]"
      ],
      "execution_count": 0,
      "outputs": []
    },
    {
      "metadata": {
        "id": "XPj4gAk-RNke",
        "colab_type": "text"
      },
      "cell_type": "markdown",
      "source": [
        "Compute partition statistics."
      ]
    },
    {
      "metadata": {
        "id": "A9vmaJ-oCQXR",
        "colab_type": "code",
        "colab": {}
      },
      "cell_type": "code",
      "source": [
        "withheld_sections[CAPACITY_C].sum()"
      ],
      "execution_count": 0,
      "outputs": []
    },
    {
      "metadata": {
        "id": "Tk0WI15tqtGx",
        "colab_type": "code",
        "colab": {}
      },
      "cell_type": "code",
      "source": [
        "[sections[CAPACITY_C].sum() - len(students) for students, sections in zip(groups_students, groups_sections)]"
      ],
      "execution_count": 0,
      "outputs": []
    },
    {
      "metadata": {
        "id": "0ObUzdCVXw8O",
        "colab_type": "text"
      },
      "cell_type": "markdown",
      "source": [
        "### Assign students to sections\n",
        "\n",
        "Use a [simulated annealing](https://en.wikipedia.org/wiki/Simulated_annealing) meta-heuristic algorithm to improve upon an initial solution. The algorithm as implemented below performs restarts (temperature reheating) to escape local extrema."
      ]
    },
    {
      "metadata": {
        "id": "le8ui3uCXyuU",
        "colab_type": "code",
        "cellView": "both",
        "colab": {}
      },
      "cell_type": "code",
      "source": [
        "#@title Simulated annealing\n",
        "#@markdown The initial temperature. The temperature defines the likelihood of accepting a sub-optimal solution.\n",
        "T_INIT = 1 #@param {type:\"number\"}\n",
        "\n",
        "#@markdown The minimum temperature. When the temperature drops below this level, the algorithm restarts (or stops, if it has exceeded `NUM_RESTARTS` restarts).\n",
        "T_MIN = 0.01 #@param {type:\"number\"}\n",
        "\n",
        "#@markdown The multiplicative factor used to decrease the temperature.\n",
        "ALPHA = 0.99 #@param {type:\"number\"}\n",
        "\n",
        "#@markdown The number of neighboring solutions the algorithm should compute at every temperature level.\n",
        "NUM_ATTEMPTS = 100 #@param {type:\"integer\"}\n",
        "\n",
        "#@markdown The number of times the algorithm can restart (\"reheat\") from its current position, allowing it return to accepting sub-optimal solutions to escape from local minima.\n",
        "NUM_RESTARTS = 10 #@param {type:\"integer\"}\n",
        "\n",
        "def anneal(solution, t_init=T_INIT, t_min=T_MIN, alpha=ALPHA, attempts=NUM_ATTEMPTS,\n",
        "           restarts=NUM_RESTARTS, quiet=False, verbose=False):\n",
        "    \"\"\"Return the best solution using a simulated annealing process.\"\"\"\n",
        "    if not quiet:\n",
        "        print(f'Anneal: {solution.objective.__name__}')\n",
        "    best = solution\n",
        "    for i in range(restarts):\n",
        "        if not quiet:\n",
        "            print(f'Iteration {i}: {len(best.assignments)} assigned')\n",
        "        t = t_init\n",
        "        while t > t_min:\n",
        "            for _ in range(attempts):\n",
        "                neighbor = solution.neighbor()\n",
        "                if (neighbor.cost() <= solution.cost()\n",
        "                    or np.exp((solution.cost() - neighbor.cost()) / t) > random.random()):\n",
        "                    # Acceptance probability based on the Metropolis-Hasting algorithm\n",
        "                    solution = neighbor\n",
        "                    if solution.cost() <= best.cost():\n",
        "                        if verbose:\n",
        "                            print(solution)\n",
        "                        best = solution\n",
        "            t *= alpha\n",
        "    return best\n",
        "\n",
        "\n",
        "solutions = [\n",
        "    anneal(solution, verbose=solution.objective is not trivial)\n",
        "    for solution in initial_solutions\n",
        "]"
      ],
      "execution_count": 0,
      "outputs": []
    },
    {
      "metadata": {
        "id": "VGrUZQpadF52",
        "colab_type": "text"
      },
      "cell_type": "markdown",
      "source": [
        "List unscheduled students amongst all solutions."
      ]
    },
    {
      "metadata": {
        "id": "hpaDQoE5Vr9J",
        "colab_type": "code",
        "colab": {}
      },
      "cell_type": "code",
      "source": [
        "[solution.unscheduled for solution in solutions]"
      ],
      "execution_count": 0,
      "outputs": []
    },
    {
      "metadata": {
        "id": "0QPGyEHqdU52",
        "colab_type": "text"
      },
      "cell_type": "markdown",
      "source": [
        "Determine the impact of back-filling the solution. In most cases, the cost of adding these unscheduled students back into the solution is too high to accept their re-enrollment."
      ]
    },
    {
      "metadata": {
        "id": "z60BHCESzAKy",
        "colab_type": "code",
        "colab": {}
      },
      "cell_type": "code",
      "source": [
        "def compute_stats(solution, objective, mode, mode_name):\n",
        "    new_solution = mode(solution)\n",
        "    return (\n",
        "        new_solution.objective.__name__,\n",
        "        objective.__name__,\n",
        "        mode_name,\n",
        "        len(new_solution.assignments),\n",
        "        len(new_solution.assignments) - len(solution.assignments),\n",
        "        sum(len(students) / section[CAPACITY_C]\n",
        "            for section, students in new_solution.schedule.items()) / len(new_solution.schedule),\n",
        "        new_solution.cost(objective),\n",
        "        new_solution.cost(objective) - new_solution.cost(ability)\n",
        "        if objective is not trivial else\n",
        "        new_solution.cost(trivial)\n",
        "    )\n",
        "\n",
        "\n",
        "pd.DataFrame.from_records(data=[\n",
        "    compute_stats(solution, objective, mode, mode_name)\n",
        "    for solution in solutions\n",
        "    for objective in objective_functions\n",
        "    for mode_name, mode in (('Optimal', lambda sol: sol), ('Backfill', Solution.backfill))\n",
        "], columns=[\n",
        "    'Group', 'Objective', 'Backfill', 'Assigned', 'Diff', 'Utilization', 'Cost', 'Normalized'\n",
        "]).set_index([\n",
        "    'Group', 'Objective', 'Backfill'\n",
        "])"
      ],
      "execution_count": 0,
      "outputs": []
    },
    {
      "metadata": {
        "id": "Scn7WqTEpiaC",
        "colab_type": "code",
        "colab": {}
      },
      "cell_type": "code",
      "source": [
        "#@markdown Small sections may be undesirable. Sections with fewer than this many students assigned to them will be removed and those students will be dropped.\n",
        "MIN_SECTION_SIZE = 3 #@param {type:\"integer\"}\n",
        "\n",
        "[sum(len(students) < MIN_SECTION_SIZE for section, students in solution.schedule.items())\n",
        " for solution in solutions]"
      ],
      "execution_count": 0,
      "outputs": []
    },
    {
      "metadata": {
        "id": "fKHJweyx0cgb",
        "colab_type": "code",
        "colab": {}
      },
      "cell_type": "code",
      "source": [
        "final_solutions, dropped = zip(*(solution.drop_underfull(MIN_SECTION_SIZE) for solution in solutions))\n",
        "dropped"
      ],
      "execution_count": 0,
      "outputs": []
    },
    {
      "metadata": {
        "id": "Dy1wCdcPhhoR",
        "colab_type": "text"
      },
      "cell_type": "markdown",
      "source": [
        "Compute the new costs and compare against the old costs."
      ]
    },
    {
      "metadata": {
        "id": "fpELd9q1hedL",
        "colab_type": "code",
        "colab": {}
      },
      "cell_type": "code",
      "source": [
        "pd.DataFrame.from_records(data=[\n",
        "    compute_stats(solution, objective, mode, mode_name)\n",
        "    for solution in final_solutions\n",
        "    for objective in objective_functions\n",
        "    for mode_name, mode in (('Optimal', lambda sol: sol), ('Backfill', Solution.backfill))\n",
        "], columns=[\n",
        "    'Group', 'Objective', 'Backfill', 'Assigned', 'Diff', 'Utilization', 'Cost', 'Normalized'\n",
        "]).set_index([\n",
        "    'Group', 'Objective', 'Backfill'\n",
        "])"
      ],
      "execution_count": 0,
      "outputs": []
    },
    {
      "metadata": {
        "id": "yh00tfQW-fdO",
        "colab_type": "text"
      },
      "cell_type": "markdown",
      "source": [
        "### Inferential statistics\n",
        "\n",
        "Do the dropped students affect the overall composition of the treatment condition? Compute inferential statistics to compare the treatment groups before and after scheduling to determine the impact of dropping students throughout the scheduling process. Note that any differences before assignment are due to random chance since the student split was done by random assignment."
      ]
    },
    {
      "metadata": {
        "id": "UmyjU3eeWEbK",
        "colab_type": "code",
        "colab": {}
      },
      "cell_type": "code",
      "source": [
        "def align_indexes(*dataframes):\n",
        "    \"\"\"Re-index all of the given dataframes so they represent the intersection of all indexes.\"\"\"\n",
        "    index = pd.Index(set.intersection(*(set(df.index) for df in dataframes)))\n",
        "    return (df.reindex(index) for df in dataframes)\n",
        "\n",
        "\n",
        "GROUP_VALIDATION_TESTS = [\n",
        "    (MIDTERM_Q, lambda df1, df2, column: sp.stats.mannwhitneyu(df1[column], df2[column])),\n",
        "    (GROUPS_Q, lambda df1, df2, column: sp.stats.mannwhitneyu(\n",
        "        df1[column].apply(LIKERT.get),\n",
        "        df2[column].apply(LIKERT.get),\n",
        "    )),\n",
        "] + [\n",
        "    (question, lambda df1, df2, column: sp.stats.power_divergence(\n",
        "        *align_indexes(df1[column].value_counts(),\n",
        "                       df2[column].value_counts()),\n",
        "        lambda_='log-likelihood',\n",
        "    )) for question in (GENDER_Q, ETHNIC_Q, AGEGRP_Q, FIRSTG_Q, INTNLS_Q, TRNSFR_Q)\n",
        "] + [\n",
        "    (INTMJR_Q, lambda df1, df2, column: sp.stats.power_divergence(\n",
        "        *align_indexes(df1[column].str.split(', ', expand=True).stack().value_counts(),\n",
        "                       df2[column].str.split(', ', expand=True).stack().value_counts()),\n",
        "        lambda_='log-likelihood',\n",
        "    )),\n",
        "    (LIKELY_Q, lambda df1, df2, column: sp.stats.mannwhitneyu(\n",
        "        df1[column].apply(LIKERT.get),\n",
        "        df2[column].apply(LIKERT.get),\n",
        "    )),\n",
        "] + [\n",
        "    (question.split('[')[-1].rstrip(']'), lambda df1, df2, column: sp.stats.mannwhitneyu(\n",
        "        df1.filter(like=column).squeeze().apply(LIKERT.get),\n",
        "        df2.filter(like=column).squeeze().apply(LIKERT.get),\n",
        "    )) for question in (WRITEP_Q, LEARNC_Q, ANXITY_Q, STRESS_Q, ENCRGE_Q, PICTUR_Q,\n",
        "                        CLASS_SUPPRT_Q, CLASS_PARTOF_Q, CLASS_ACCEPT_Q, CLASS_COMFRT_Q,\n",
        "                        CMNTY_SUPPRT_Q, CMNTY_PARTOF_Q, CMNTY_ACCEPT_Q, CMNTY_COMFRT_Q)\n",
        "]\n",
        "\n",
        "\n",
        "validation = pd.DataFrame.from_records(data=[\n",
        "    [solution.objective.__name__, test_name] + list(test(\n",
        "        group_students, \n",
        "        pd.DataFrame.from_records(\n",
        "            data=[student for student in solution.assignments],\n",
        "            columns=[group_students.index.name] + [c for c in group_students.columns]\n",
        "        ).set_index(group_students.index.name),\n",
        "        test_name\n",
        "    ))\n",
        "    for group_students, solution in zip(groups_students, final_solutions)\n",
        "    for test_name, test in GROUP_VALIDATION_TESTS\n",
        "], columns=['Objective', 'Question', 'Statistic', 'p-value']).set_index(['Objective', 'Question'])\n",
        "validation"
      ],
      "execution_count": 0,
      "outputs": []
    },
    {
      "metadata": {
        "id": "XYW8afUd0DZY",
        "colab_type": "code",
        "colab": {}
      },
      "cell_type": "code",
      "source": [
        "#@markdown Define the significance level. We may wish to apply significance test corrections (e.g. Bonferroni) due to multiple hypothesis testing and a priori knowledge.\n",
        "SIGNIFICANCE_LEVEL = 0.05 #@param {type:\"number\"}\n",
        "\n",
        "validation[validation['p-value'] < SIGNIFICANCE_LEVEL]"
      ],
      "execution_count": 0,
      "outputs": []
    },
    {
      "metadata": {
        "id": "AdA23-zWDPlN",
        "colab_type": "text"
      },
      "cell_type": "markdown",
      "source": [
        "## Export schedule\n",
        "\n",
        "Export the schedule by loading in student emails from the survey, and then re-joining them with the section assignments."
      ]
    },
    {
      "metadata": {
        "id": "HODrd2KHDPlO",
        "colab_type": "code",
        "colab": {}
      },
      "cell_type": "code",
      "source": [
        "#@title Section assignments\n",
        "#@markdown Define the column names: the treatment condition, student ID, student name, student email, section code, teacher name, teacher email, room, and time.\n",
        "EXPORT_OBJECTIVE_C = 'Treatment Condition' #@param {type:\"string\"}\n",
        "EXPORT_SID_C = 'Student ID' #@param {type:\"string\"}\n",
        "EXPORT_STUDENT_NAME_C = 'Student Name' #@param {type:\"string\"}\n",
        "EXPORT_STUDENT_EMAIL_C = 'Student Email' #@param {type:\"string\"}\n",
        "EXPORT_CODE_C = 'Code' #@param {type:\"string\"}\n",
        "EXPORT_TEACHER_NAME_C = 'Teacher Name' #@param {type:\"string\"}\n",
        "EXPORT_TEACHER_EMAIL_C = 'Teacher Email' #@param {type:\"string\"}\n",
        "EXPORT_ROOM_C = 'Room' #@param {type:\"string\"}\n",
        "EXPORT_TIME_C = 'Time' #@param {type:\"string\"}\n",
        "\n",
        "assignments = pd.DataFrame.from_records((\n",
        "    (\n",
        "        solution.objective.__name__,\n",
        "        student[STUDENT_NAME_C],\n",
        "        student[STUDENT_EMAIL_C],\n",
        "        student[SID_C],\n",
        "        section[CODE_C],\n",
        "        section[TEACHER_NAME_C],\n",
        "        section[TEACHER_EMAIL_C],\n",
        "        section[ROOM_C],\n",
        "        section[TIME_C],\n",
        "    )\n",
        "    for solution in final_solutions\n",
        "    for student, section in solution.assignments.items()\n",
        "), columns=[\n",
        "    EXPORT_OBJECTIVE_C,\n",
        "    EXPORT_STUDENT_NAME_C,\n",
        "    EXPORT_STUDENT_EMAIL_C,\n",
        "    EXPORT_SID_C,\n",
        "    EXPORT_CODE_C,\n",
        "    EXPORT_TEACHER_NAME_C,\n",
        "    EXPORT_TEACHER_EMAIL_C,\n",
        "    EXPORT_ROOM_C,\n",
        "    EXPORT_TIME_C,\n",
        "]).set_index(EXPORT_SID_C)\n",
        "\n",
        "\n",
        "class Assignment(namedtuple('Assignment', ['SID'] + list(assignments.columns), rename=True)):\n",
        "\n",
        "    _idx = {name: i for i, name in enumerate([assignments.index.name] + list(assignments.columns))}\n",
        "\n",
        "    def __getitem__(self, key):\n",
        "        if isinstance(key, str):\n",
        "            return super().__getitem__(self._idx[key])\n",
        "        return super().__getitem__(key)\n",
        "\n",
        "    def __eq__(self, other):\n",
        "        return self[0] == other[0]\n",
        "\n",
        "    def __hash__(self):\n",
        "        return hash(self[0])\n",
        "\n",
        "class Assignments(pd.DataFrame):\n",
        "\n",
        "    _internal_names = pd.DataFrame._internal_names + ['_tuples', '_arrays']\n",
        "    _internal_names_set = set(_internal_names)\n",
        "\n",
        "    _tuples = None\n",
        "    _arrays = None\n",
        "\n",
        "    @property\n",
        "    def tuples(self):\n",
        "        if self._tuples is None:\n",
        "            self._tuples = {assignment[EXPORT_SID_C]: assignment for assignment in self.itertuples()}\n",
        "        return self._tuples\n",
        "\n",
        "    def itertuples(self):\n",
        "        if self._arrays is None:\n",
        "            self._arrays = [self.index] + [self.iloc[:, k] for k in range(len(self.columns))]\n",
        "        return map(Assignment._make, zip(*self._arrays))\n",
        "\n",
        "    @property\n",
        "    def _constructor(self):\n",
        "        return Assignments\n",
        "\n",
        "assignments = Assignments(assignments)\n",
        "\n",
        "for _, assignment in zip(range(5), assignments.tuples.values()):\n",
        "    sid = assignment[EXPORT_SID_C]\n",
        "    email = assignment[EXPORT_TEACHER_EMAIL_C]\n",
        "    time = assignment[EXPORT_TIME_C]\n",
        "    print(f'{sid} is assigned to the section ({email}, {time})')"
      ],
      "execution_count": 0,
      "outputs": []
    },
    {
      "metadata": {
        "id": "N-y4LDZv1AZ_",
        "colab_type": "code",
        "colab": {}
      },
      "cell_type": "code",
      "source": [
        "#@markdown Save the `assignments` dataframe to the following filename.\n",
        "ASSIGNMENTS_FILE = 'assignments.csv' #@param {type:\"string\"}\n",
        "\n",
        "save_dataframe(assignments, ASSIGNMENTS_FILE)"
      ],
      "execution_count": 0,
      "outputs": []
    },
    {
      "metadata": {
        "id": "I7SCE0wdj1uN",
        "colab_type": "code",
        "colab": {}
      },
      "cell_type": "code",
      "source": [
        "#@title Withheld students\n",
        "#@markdown Append unscheduled students to the previously withheld students and save the dataframe.\n",
        "WITHHELD_STUDENTS_FILE = 'withheld-students.csv' #@param {type:\"string\"}\n",
        "\n",
        "save_dataframe(withheld_students.append(\n",
        "    pd.DataFrame.from_records(\n",
        "        data=[student for solution in final_solutions for student in solution.unscheduled],\n",
        "        columns=[students.index.name] + list(students.columns),\n",
        "    ).set_index([students.index.name])\n",
        "), WITHHELD_STUDENTS_FILE)"
      ],
      "execution_count": 0,
      "outputs": []
    },
    {
      "metadata": {
        "id": "60CGnSy_7Rks",
        "colab_type": "code",
        "colab": {}
      },
      "cell_type": "code",
      "source": [
        "#@title Withheld sections\n",
        "#@markdown Append dropped sections to the previously withheld sections and save the dataframe.\n",
        "WITHHELD_SECTIONS_FILE = 'withheld-sections.csv' #@param {type:\"string\"}\n",
        "\n",
        "save_dataframe(withheld_sections.append(\n",
        "    pd.DataFrame.from_records(\n",
        "        data=list(set().union(*dropped_sections)),\n",
        "        columns=[sections.index.name] + list(sections.columns),\n",
        "    ).set_index([sections.index.name])\n",
        "), WITHHELD_SECTIONS_FILE)"
      ],
      "execution_count": 0,
      "outputs": []
    },
    {
      "metadata": {
        "id": "GGUmWTPmOClz",
        "colab_type": "text"
      },
      "cell_type": "markdown",
      "source": [
        "## Send emails\n",
        "\n",
        "Email notifications are configured to send through the [GMail API](https://developers.google.com/gmail/api). The GMail API will need to be [enabled in the user's Google Cloud Console](https://developers.google.com/gmail/api/quickstart/python#step_1_turn_on_the). The GMail API is subject to [Mail Sending Limits](https://developers.google.com/gmail/api/v1/reference/quota#mail_sending_limits)."
      ]
    },
    {
      "metadata": {
        "id": "b40CxNkSXk6f",
        "colab_type": "code",
        "colab": {}
      },
      "cell_type": "code",
      "source": [
        "from googleapiclient.discovery import build\n",
        "from google_auth_oauthlib.flow import InstalledAppFlow\n",
        "from google.auth.transport.requests import Request\n",
        "\n",
        "import base64\n",
        "import os\n",
        "import pickle\n",
        "\n",
        "from email.mime.text import MIMEText"
      ],
      "execution_count": 0,
      "outputs": []
    },
    {
      "metadata": {
        "id": "NK5Gj938tXUM",
        "colab_type": "code",
        "colab": {}
      },
      "cell_type": "code",
      "source": [
        "#@title Authenticate\n",
        "\n",
        "#@markdown Define the name of the OAuth2 credentials file with the GMail Google Cloud API enabled.\n",
        "CREDENTIALS_FILE = 'credentials.json' #@param {type:\"string\"}\n",
        "\n",
        "#@markdown Define the name of the token file used to store the temporary authentication.\n",
        "TOKEN_FILE = 'token.pickle' #@param {type:\"string\"}\n",
        "os.remove(TOKEN_FILE)\n",
        "\n",
        "#@markdown Define the access scopes to request. Other scopes may include useful features like drafting messages.\n",
        "SCOPES = 'https://www.googleapis.com/auth/gmail.send' #@param {type:\"string\"}\n",
        "\n",
        "creds = None\n",
        "if os.path.exists(TOKEN_FILE):\n",
        "    with open(TOKEN_FILE, 'rb') as token:\n",
        "        creds = pickle.load(token)\n",
        "\n",
        "if not creds or not creds.valid:\n",
        "    if creds and creds.expired and creds.refresh_token:\n",
        "        creds.refresh(Request())\n",
        "    else:\n",
        "        flow = InstalledAppFlow.from_client_secrets_file(CREDENTIALS_FILE, SCOPES)\n",
        "        creds = flow.run_local_server()\n",
        "    with open('token.pickle', 'wb') as token:\n",
        "        pickle.dump(creds, token)\n",
        "\n",
        "service = build('gmail', 'v1', credentials=creds)"
      ],
      "execution_count": 0,
      "outputs": []
    },
    {
      "metadata": {
        "id": "KtRh6OLMfpBT",
        "colab_type": "code",
        "colab": {}
      },
      "cell_type": "code",
      "source": [
        "#@title Message template\n",
        "#@markdown Define the message template and `MIMEText` object builder.\n",
        "\n",
        "def create_message(sender, to, cc, subject, message_text, display=True):\n",
        "    \"\"\"Create a message for an email.\"\"\"\n",
        "    message = MIMEText(message_text)\n",
        "    message['to'] = to\n",
        "    message['cc'] = cc\n",
        "    message['from'] = sender\n",
        "    message['subject'] = subject\n",
        "    if display:\n",
        "        print(message)\n",
        "    return {'raw': base64.urlsafe_b64encode(message.as_bytes()).decode()}\n",
        "\n",
        "\n",
        "#@markdown The \"from\" field containing email sender information.\n",
        "EMAIL_FROM = '' #@param {type:\"string\"}\n",
        "\n",
        "#@markdown The \"subject\" field containing the email's subject line.\n",
        "EMAIL_SUBJECT = '' #@param {type:\"string\"}\n",
        "\n",
        "#@markdown *Modify the multiline string for `EMAIL_MESSAGE` to change the email's text content.*\n",
        "EMAIL_MESSAGE = \"\"\"\n",
        "Hi {student},\n",
        "\n",
        "Your CSM CS 61A section will be with {teacher} at {time} in room {room}.\n",
        "\n",
        "If you have any questions, please make a post on the CSM 61A Piazza.\n",
        "\n",
        "Kevin\n",
        "\"\"\".strip() or input()"
      ],
      "execution_count": 0,
      "outputs": []
    },
    {
      "metadata": {
        "id": "l_M7Vmprfk-N",
        "colab_type": "text"
      },
      "cell_type": "markdown",
      "source": [
        "### Send test message\n",
        "\n",
        "Send a test message to yourself before sending the real emails."
      ]
    },
    {
      "metadata": {
        "id": "hNv1YmfN1epO",
        "colab_type": "code",
        "colab": {}
      },
      "cell_type": "code",
      "source": [
        "def send_test_message(assignment, interactive=True):\n",
        "    message = create_message(\n",
        "        sender=EMAIL_FROM,\n",
        "        to=EMAIL_FROM,\n",
        "        subject=EMAIL_SUBJECT,\n",
        "        message_text=EMAIL_MESSAGE.format(\n",
        "            student=assignment[EXPORT_STUDENT_NAME_C],\n",
        "            teacher=assignment[EXPORT_TEACHER_NAME_C],\n",
        "            time=assignment[EXPORT_TIME_C],\n",
        "            room=assignment[EXPORT_ROOM_C],\n",
        "        )\n",
        "        display=True\n",
        "    )\n",
        "    accept = ''\n",
        "    while interactive and accept == '':\n",
        "        accept = input('Send message? [Y/N] ').lower()\n",
        "    if not interactive or accept in ('y', 'yes'):\n",
        "        service.users().messages().send(userId='me', body=message).execute()\n",
        "        print(f'Message sent to: {EMAIL_FROM}')\n",
        "\n",
        "send_test_message(next(assignments.itertuples()))"
      ],
      "execution_count": 0,
      "outputs": []
    },
    {
      "metadata": {
        "id": "TEHJUvbj1fA-",
        "colab_type": "text"
      },
      "cell_type": "markdown",
      "source": [
        "### Send messages\n",
        "\n",
        "Send the real messages in batches."
      ]
    },
    {
      "metadata": {
        "id": "F4qcWoUlY3lt",
        "colab_type": "code",
        "colab": {}
      },
      "cell_type": "code",
      "source": [
        "#@markdown Display the message drafts before sending. Disable to reduce verbosity.\n",
        "DISPLAY_MESSAGES = True #@param {type:\"boolean\"}\n",
        "#@markdown Define the number of batches to split the job into. Each batch needs to be approved manually.\n",
        "NUM_BATCHES = 10 #@param {type:\"integer\"}\n",
        "#@markdown Define the starting batch, for jobs that were previously halted.\n",
        "START_BATCH = 0 #@param {type:\"integer\"}\n",
        "\n",
        "def message_from(assignment):\n",
        "    return create_message(\n",
        "        sender=EMAIL_FROM,\n",
        "        to=assignment[EXPORT_STUDENT_EMAIL_C],\n",
        "        cc=assignment[EXPORT_TEACHER_EMAIL_C],\n",
        "        subject=EMAIL_SUBJECT,\n",
        "        message_text=EMAIL_MESSAGE.format(\n",
        "            student=assignment[EXPORT_STUDENT_NAME_C],\n",
        "            teacher=assignment[EXPORT_TEACHER_NAME_C],\n",
        "            time=assignment[EXPORT_TIME_C],\n",
        "            room=assignment[EXPORT_ROOM_C],\n",
        "        ),\n",
        "        display=DISPLAY_MESSAGES\n",
        "    )\n",
        "\n",
        "for i, batch in enumerate(np.array_split(assignments, NUM_BATCHES)):\n",
        "    if i < START_BATCH:\n",
        "        continue\n",
        "    messages = [message_from(assignment) for assignment in batch.itertuples()]\n",
        "    accept = ''\n",
        "    while accept == '':\n",
        "        accept = input(f'Send {len(messages)} messages? [Y/N] ').lower()\n",
        "    if accept in ('y', 'yes'):\n",
        "        for message in messages:\n",
        "            service.users().messages().send(userId='me', message).execute()\n",
        "        print(f'Sent {len(message)} messages')\n",
        "    else:\n",
        "        print(f'Halt at batch {i}')\n",
        "        break"
      ],
      "execution_count": 0,
      "outputs": []
    },
    {
      "metadata": {
        "id": "l6jSppPRmFCp",
        "colab_type": "text"
      },
      "cell_type": "markdown",
      "source": [
        "## Post-processing\n",
        "\n",
        "Drop or reschedule students after initial assignments have been made."
      ]
    },
    {
      "metadata": {
        "id": "cqfCCuUrmU29",
        "colab_type": "code",
        "colab": {}
      },
      "cell_type": "code",
      "source": [
        "#@markdown Given the exported schedule of assignments, re-load it into the environment for further manipulation.\n",
        "EXISTING_ASSIGNMENTS_FILE = '' #@param {type:\"string\"}\n",
        "EXISTING_ASSIGNMENTS_NAME = '' #@param {type:\"string\"}\n",
        "\n",
        "existing_assignments = load_dataframe(\n",
        "    EXISTING_ASSIGNMENTS_FILE, EXISTING_ASSIGNMENTS_NAME\n",
        ").set_index(EXPORT_SID_C)\n",
        "existing_assignments"
      ],
      "execution_count": 0,
      "outputs": []
    },
    {
      "metadata": {
        "id": "chegfgzdH9xu",
        "colab_type": "text"
      },
      "cell_type": "markdown",
      "source": [
        "Restore solutions from the existing assignments. This function depends on the format and representation in which the data was originally exported."
      ]
    },
    {
      "metadata": {
        "id": "2qBGZ5C6mj6w",
        "colab_type": "code",
        "colab": {}
      },
      "cell_type": "code",
      "source": [
        "restored_solutions = []\n",
        "for objective, group_students in zip(objective_functions, groups_students):\n",
        "    existing = existing_assignments[existing_assignments[EXPORT_OBJECTIVE_C] == objective.__name__]\n",
        "\n",
        "    assignments = {\n",
        "        students.tuples[assign[EXPORT_SID_C]]: sections.tuples[assign[EXPORT_CODE_C]]\n",
        "        for assign in existing.itertuples()\n",
        "    }\n",
        "    schedule = {\n",
        "        sections.tuples[code]: set(students.tuples[sid] for sid in row.dropna())\n",
        "        for code, row in (\n",
        "            existing\n",
        "            .set_index([EXPORT_CODE_C, EXPORT_STUDENT_EMAIL_C])\n",
        "            [EXPORT_SID_C]\n",
        "            .unstack()\n",
        "            .iterrows()\n",
        "        )\n",
        "    }\n",
        "    unscheduled = {\n",
        "        students.tuples[sid] for sid in set(group_students.index) - set(existing[EXPORT_SID_C])\n",
        "    },\n",
        "    matching = sections[\n",
        "        sections[[TEACHER_EMAIL_C, TIME_C]]\n",
        "        .isin(existing[[EXPORT_TEACHER_EMAIL_C, EXPORT_TIME_C]])\n",
        "        .any(axis=1)\n",
        "    ].matching\n",
        "\n",
        "    solution = Solution(objective, assignments, schedule, unscheduled, matching)\n",
        "    restored_solutions.append(solution)\n",
        "    print(solution)"
      ],
      "execution_count": 0,
      "outputs": []
    },
    {
      "metadata": {
        "id": "PG6olF_kpqW6",
        "colab_type": "code",
        "colab": {}
      },
      "cell_type": "code",
      "source": [
        "#@title Drop students\n",
        "#@markdown The comma-separated list of student IDs to drop.\n",
        "TO_DROP = '' #@param {type:\"string\"}\n",
        "\n",
        "for solution in restored_solutions:\n",
        "    print(solution)\n",
        "    _, dropped = solution.drop_students([students.tuples[sid] for sid in TO_DROP.split(', ')])\n",
        "    print(dropped)\n",
        "    accept = ''\n",
        "    while accept == '':\n",
        "        accept = input('Continue? [Y/N] ').lower()\n",
        "    if accept not in ('y', 'yes'):\n",
        "        break"
      ],
      "execution_count": 0,
      "outputs": []
    },
    {
      "metadata": {
        "id": "nXt3oUsPG1EU",
        "colab_type": "code",
        "colab": {}
      },
      "cell_type": "code",
      "source": [
        "#@title Reschedule students\n",
        "#@markdown The comma-separated list of student IDs to reschedule.\n",
        "TO_RESCHEDULE = '' #@param {type:\"string\"}\n",
        "\n",
        "for solution in restored_solutions:\n",
        "    print(solution)\n",
        "    new_soln = solution.reschedule([students.tuples[sid] for sid in TO_RESCHEDULE.split(', ')])\n",
        "    print(new_soln)\n",
        "    accept = ''\n",
        "    while accept == '':\n",
        "        accept = input('Continue? [Y/N] ').lower()\n",
        "    if accept not in ('y', 'yes'):\n",
        "        break"
      ],
      "execution_count": 0,
      "outputs": []
    }
  ]
}